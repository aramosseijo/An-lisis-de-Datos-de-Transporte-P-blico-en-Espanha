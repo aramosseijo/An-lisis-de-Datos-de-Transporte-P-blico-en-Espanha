{
 "cells": [
  {
   "cell_type": "markdown",
   "id": "e4e42697-635a-413a-8f23-660a7b849a62",
   "metadata": {},
   "source": [
    "**Cargamos las librerías necesarias**  \n",
    "Utilizaremos sqlalchemy para la gestión de las conexiones de la BBDD.  \n",
    "La utilización de un ORM en este caso solo nos aporta la gestión de conexiónes.\n",
    "Se anexa otro Script en el que se crea la BBDD con un Modelo Relación como ejemplo. Esto aportaría además una capa agnostica con la BBDD."
   ]
  },
  {
   "cell_type": "markdown",
   "id": "f9c5ea22-96f0-42bd-bb83-9d2628751a22",
   "metadata": {},
   "source": [
    "**Configurar Logging**\n",
    "Se configura el sistema de logging para que los mensajes se guarden en un archivo y se muestren en la consola."
   ]
  },
  {
   "cell_type": "code",
   "execution_count": 1,
   "id": "44c410b5-4389-4c33-b13e-e484137cae20",
   "metadata": {},
   "outputs": [],
   "source": [
    "from sqlalchemy import create_engine, text\n",
    "from dotenv import load_dotenv\n",
    "import os\n",
    "import pandas as pd\n",
    "import numpy as np\n",
    "import logging\n",
    "%run Functions.ipynb\n",
    "# Configuramos los logs\n",
    "# Crear la carpeta de logs si no existe\n",
    "os.makedirs('logs', exist_ok=True)\n",
    "\n",
    "# Configurar logging para guardar en archivo\n",
    "logging.basicConfig(level=logging.INFO, \n",
    "                    format='%(asctime)s - %(name)s - %(levelname)s - %(message)s',\n",
    "                    handlers=[\n",
    "                        logging.FileHandler('logs/app.log'),\n",
    "                        logging.StreamHandler()\n",
    "                    ])\n",
    "logger = logging.getLogger(__name__)"
   ]
  },
  {
   "cell_type": "markdown",
   "id": "3910f72f-7e82-47f4-a927-f99743d0c95a",
   "metadata": {},
   "source": [
    "Para la conexión a una base de datos MySQL utilizando SQLAlchemy y la carga de variables de entorno desde un archivo .env. También se mencionarán las ventajas, desventajas y posibles mejoras.  \n",
    "**Estructura del Archivo .env**\n",
    "El archivo .env debe contener las credenciales y parámetros de conexión a la base de datos MySQL. La estructura es la siguiente:  \n",
    "DB_USER=root  \n",
    "DB_PASSWORD=root  \n",
    "DB_HOST=localhost  \n",
    "DB_PORT=3306  \n",
    "DB_NAME=transporte_publico  "
   ]
  },
  {
   "cell_type": "markdown",
   "id": "c6e03499-baa7-414c-b5d0-3c638b823752",
   "metadata": {},
   "source": [
    "**Cargar Variables de Entorno**  \n",
    "Se utiliza la biblioteca python-dotenv para cargar las variables de entorno desde el archivo .env."
   ]
  },
  {
   "cell_type": "code",
   "execution_count": 2,
   "id": "0f9b48ac-4713-4ee3-aaee-fbfc87a90310",
   "metadata": {},
   "outputs": [
    {
     "name": "stderr",
     "output_type": "stream",
     "text": [
      "2024-07-23 17:41:00,236 - __main__ - INFO - Connected to database: transporte_publico\n"
     ]
    }
   ],
   "source": [
    "load_dotenv()\n",
    "\n",
    "# Obtener los parámetros de la base de datos desde las variables de entorno\n",
    "DB_USER = os.getenv('DB_USER')\n",
    "DB_PASSWORD = os.getenv('DB_PASSWORD')\n",
    "DB_HOST = os.getenv('DB_HOST')\n",
    "DB_PORT = os.getenv('DB_PORT')\n",
    "DB_NAME = os.getenv('DB_NAME')\n",
    "\n",
    "# Crear la cadena de conexión\n",
    "connection_string = f'mysql+pymysql://{DB_USER}:{DB_PASSWORD}@{DB_HOST}:{DB_PORT}/{DB_NAME}'\n",
    "\n",
    "# Crear el engine\n",
    "engine = create_engine(connection_string)\n",
    "\n",
    "try:\n",
    "    with engine.connect() as connection:\n",
    "        result = connection.execute(text(\"SELECT DATABASE()\"))\n",
    "        for row in result:\n",
    "            logger.info(f\"Connected to database: {row[0]}\")\n",
    "except Exception as e:\n",
    "    logger.error(f\"Error connecting to the database: {e}\")\n"
   ]
  },
  {
   "cell_type": "markdown",
   "id": "126184ab-5c6a-453a-800d-3c9fab9925cc",
   "metadata": {},
   "source": [
    "**Motivos y Ventajas:**\n",
    "- Seguridad: Almacenar las credenciales en un archivo .env evita exponer información sensible en el código fuente.\n",
    "- Flexibilidad: Permite cambiar las credenciales y parámetros de conexión sin modificar el código.\n",
    "- Mantenibilidad: Facilita la gestión de configuraciones para diferentes entornos (desarrollo, pruebas, producción)."
   ]
  },
  {
   "cell_type": "markdown",
   "id": "24a5b055-18fe-429e-a967-d700d83d0d6e",
   "metadata": {},
   "source": [
    "**Crear la Cadena de Conexión y el Engine**  \n",
    "Se crea la cadena de conexión usando los parámetros cargados y se inicializa el engine de SQLAlchemy.\n",
    "**Verificar la Conexión**  \n",
    "Se verifica la conexión ejecutando una consulta simple para asegurarse de que el script se ha conectado correctamente a la base de datos.\n",
    "**Motivos y Ventajas:**  \n",
    "- Validación: Ejecutar una consulta de verificación asegura que la conexión se ha establecido correctamente.\n",
    "- Diagnóstico: Permite identificar rápidamente problemas de conexión.  \n",
    "#### Ventajas y Desventajas  \n",
    "**Ventajas**  \n",
    "- Seguridad: Las credenciales no se exponen en el código fuente.\n",
    "- Flexibilidad y Mantenibilidad: Facilita la gestión de configuraciones y la adaptación a diferentes entornos.\n",
    "- Estandarización: Utilizar archivos .env es una práctica común y recomendada en el desarrollo de software.  \n",
    "\n",
    "**Desventajas**  \n",
    "- Dependencia en el Archivo .env: Si el archivo .env no está presente o es incorrecto, el script no funcionará.\n",
    "- Complejidad Adicional: Requiere la instalación y uso de una librería adicional (python-dotenv)."
   ]
  },
  {
   "cell_type": "markdown",
   "id": "07761548-060d-4266-a12d-507299d21b39",
   "metadata": {},
   "source": [
    "**Leer el Archivo SQL**  \n",
    "Se lee el archivo SQL que contiene las declaraciones para crear las tablas necesarias.  \n",
    "\n",
    "**Ejecutar Declaraciones SQL**  \n",
    "Se ejecutan las declaraciones SQL leídas del archivo para crear las tablas."
   ]
  },
  {
   "cell_type": "code",
   "execution_count": 3,
   "id": "c8ee4e03-69d1-49e3-a7d2-0888123aaf42",
   "metadata": {},
   "outputs": [
    {
     "name": "stderr",
     "output_type": "stream",
     "text": [
      "2024-07-23 17:41:00,252 - __main__ - INFO - SQL file '../SQL/crearBBDDTransportesMysql.sql' read successfully.\n",
      "2024-07-23 17:41:00,261 - __main__ - INFO - Executed SQL statement: -- Crear la base de datos\n",
      "CREATE DATABASE IF NOT E...\n",
      "2024-07-23 17:41:00,264 - __main__ - INFO - Executed SQL statement: -- Usar la base de datos\n",
      "USE transporte_publico...\n",
      "2024-07-23 17:41:00,271 - __main__ - INFO - Executed SQL statement: DROP TABLE IF EXISTS hechos_transporte...\n",
      "2024-07-23 17:41:00,276 - __main__ - INFO - Executed SQL statement: DROP TABLE IF EXISTS dim_dia...\n",
      "2024-07-23 17:41:00,280 - __main__ - INFO - Executed SQL statement: DROP TABLE IF EXISTS dim_region...\n",
      "2024-07-23 17:41:00,285 - __main__ - INFO - Executed SQL statement: DROP TABLE IF EXISTS dim_transporte...\n",
      "2024-07-23 17:41:00,289 - __main__ - INFO - Executed SQL statement: DROP TABLE IF EXISTS dim_ruta...\n",
      "2024-07-23 17:41:00,324 - __main__ - INFO - Executed SQL statement: -- Crear la tabla de rutas\n",
      "CREATE TABLE IF NOT EXI...\n",
      "2024-07-23 17:41:00,359 - __main__ - INFO - Executed SQL statement: -- Crear la tabla de tipos de transporte\n",
      "CREATE TA...\n",
      "2024-07-23 17:41:00,392 - __main__ - INFO - Executed SQL statement: -- Crear la tabla de regiones\n",
      "CREATE TABLE IF NOT ...\n",
      "2024-07-23 17:41:00,423 - __main__ - INFO - Executed SQL statement: -- Crear la tabla de días\n",
      "CREATE TABLE IF NOT EXIS...\n",
      "2024-07-23 17:41:00,567 - __main__ - INFO - Executed SQL statement: -- Crear la tabla de hechos de transporte\n",
      "CREATE T...\n"
     ]
    }
   ],
   "source": [
    "# Leer el archivo SQL\n",
    "sql_file_path = '../SQL/crearBBDDTransportesMysql.sql'\n",
    "try:\n",
    "    with open(sql_file_path, 'r', encoding='utf-8') as file:\n",
    "        create_tables_sql = file.read()\n",
    "    logger.info(f\"SQL file '{sql_file_path}' read successfully.\")\n",
    "except FileNotFoundError as e:\n",
    "    logger.error(f\"Error reading SQL file: {e}\")\n",
    "    raise\n",
    "\n",
    "# Ejecutar cada declaración SQL por separado\n",
    "with engine.connect() as connection:\n",
    "    for statement in create_tables_sql.split(';'):\n",
    "        statement = statement.strip()\n",
    "        if statement:\n",
    "            try:\n",
    "                connection.execute(text(statement))\n",
    "                logger.info(f\"Executed SQL statement: {statement[:50]}...\")\n",
    "            except Exception as e:\n",
    "                logger.error(f\"Error executing SQL statement: {e}\")\n",
    "                raise"
   ]
  },
  {
   "cell_type": "markdown",
   "id": "4af7f9ba-3bda-430c-8fc7-e0c8ed4d23a7",
   "metadata": {},
   "source": [
    "**Cargar el Archivo CSV**  \n",
    "Se carga el archivo CSV que contiene los datos a procesar.  \n",
    "\n",
    "**Limpieza de Datos**  \n",
    "Se limpian los datos eliminando filas con valores no disponibles y convirtiendo columnas a tipo numérico.  "
   ]
  },
  {
   "cell_type": "code",
   "execution_count": 4,
   "id": "ada4258e-d1b9-4e0e-9b82-dda865f32bdc",
   "metadata": {},
   "outputs": [
    {
     "name": "stderr",
     "output_type": "stream",
     "text": [
      "2024-07-23 17:41:00,756 - __main__ - INFO - CSV file '../Data/Transporte_Publico_Espana.csv' loaded successfully.\n"
     ]
    }
   ],
   "source": [
    "# Cargar el archivo CSV\n",
    "file_path = '../Data/Transporte_Publico_Espana.csv'\n",
    "try:\n",
    "    data = pd.read_csv(file_path)\n",
    "    logger.info(f\"CSV file '{file_path}' loaded successfully.\")\n",
    "except FileNotFoundError as e:\n",
    "    logger.error(f\"Error loading CSV file: {e}\")\n",
    "    raise\n",
    "\n",
    "# Limpieza de datos\n",
    "data = valores_faltantes(data)\n",
    "data['Numero_Pasajeros'] = pd.to_numeric(data['Numero_Pasajeros'], errors='coerce')\n",
    "data['Duracion_Viaje_Minutos'] = pd.to_numeric(data['Duracion_Viaje_Minutos'], errors='coerce')\n",
    "data['Retraso_Minutos'] = pd.to_numeric(data['Retraso_Minutos'], errors='coerce')\n",
    "\n",
    "# Crear un diccionario para almacenar los ID de las dimensiones\n",
    "dim_ruta = {}\n",
    "dim_transporte = {}\n",
    "dim_region = {}\n",
    "dim_dia = {}\n",
    "\n",
    "# Función para obtener o crear una dimensión\n",
    "def get_or_create_dimension(connection, table, column, value, dim_dict):\n",
    "    if value not in dim_dict:\n",
    "        try:\n",
    "            result = connection.execute(text(f\"INSERT INTO {table} ({column}) VALUES (:value)\"), {'value': value})\n",
    "            dim_dict[value] = result.lastrowid\n",
    "            logger.info(f\"Inserted {value} into {table}, ID: {result.lastrowid}\")\n",
    "        except Exception as e:\n",
    "            logger.error(f\"Error inserting {value} into {table}: {e}\")\n",
    "            raise\n",
    "    return dim_dict[value]"
   ]
  },
  {
   "cell_type": "markdown",
   "id": "b7d29a22-5aa1-42a6-b019-3263adef2c74",
   "metadata": {},
   "source": [
    "**Insertar Datos en la Base de Datos**  \n",
    "Se insertan los datos en las tablas de dimensiones y hechos, gestionando las transacciones de manera segura.  \n",
    "\n",
    "**Cierre de Conexión**  \n",
    "Se fuerza el cierre de la conexión al final del proceso."
   ]
  },
  {
   "cell_type": "code",
   "execution_count": 5,
   "id": "4112869b-d497-4ad2-b2d8-f6ea615ae173",
   "metadata": {},
   "outputs": [
    {
     "name": "stderr",
     "output_type": "stream",
     "text": [
      "2024-07-23 17:41:00,890 - __main__ - INFO - Inserted Malaga - Sevilla into dim_ruta, ID: 1\n",
      "2024-07-23 17:41:00,892 - __main__ - INFO - Inserted Tren into dim_transporte, ID: 1\n",
      "2024-07-23 17:41:00,895 - __main__ - INFO - Inserted Barcelona into dim_region, ID: 1\n",
      "2024-07-23 17:41:00,899 - __main__ - INFO - Inserted Sunday into dim_dia, ID: 1\n",
      "2024-07-23 17:41:00,904 - __main__ - INFO - Inserted Madrid - Zaragoza into dim_ruta, ID: 2\n",
      "2024-07-23 17:41:00,906 - __main__ - INFO - Inserted Autobús into dim_transporte, ID: 2\n",
      "2024-07-23 17:41:00,908 - __main__ - INFO - Inserted Madrid into dim_region, ID: 2\n",
      "2024-07-23 17:41:00,913 - __main__ - INFO - Inserted Sevilla - Madrid into dim_ruta, ID: 3\n",
      "2024-07-23 17:41:00,915 - __main__ - INFO - Inserted Metro into dim_transporte, ID: 3\n",
      "2024-07-23 17:41:00,918 - __main__ - INFO - Inserted Malaga into dim_region, ID: 3\n",
      "2024-07-23 17:41:00,921 - __main__ - INFO - Inserted Madrid - Malaga into dim_ruta, ID: 4\n",
      "2024-07-23 17:41:00,924 - __main__ - INFO - Inserted Sevilla into dim_region, ID: 4\n",
      "2024-07-23 17:41:00,931 - __main__ - INFO - Inserted Madrid - Barcelona into dim_ruta, ID: 5\n",
      "2024-07-23 17:41:00,933 - __main__ - INFO - Inserted Valencia into dim_region, ID: 5\n",
      "2024-07-23 17:41:00,937 - __main__ - INFO - Inserted Tranvía into dim_transporte, ID: 4\n",
      "2024-07-23 17:41:00,941 - __main__ - INFO - Inserted Bilbao - Madrid into dim_ruta, ID: 6\n",
      "2024-07-23 17:41:00,943 - __main__ - INFO - Inserted Zaragoza into dim_region, ID: 6\n",
      "2024-07-23 17:41:00,947 - __main__ - INFO - Inserted Valencia - Sevilla into dim_ruta, ID: 7\n",
      "2024-07-23 17:41:00,951 - __main__ - INFO - Inserted Barcelona - Valencia into dim_ruta, ID: 8\n",
      "2024-07-23 17:41:00,960 - __main__ - INFO - Inserted Bilbao into dim_region, ID: 7\n",
      "2024-07-23 17:41:00,966 - __main__ - INFO - Inserted Zaragoza - Barcelona into dim_ruta, ID: 9\n",
      "2024-07-23 17:41:00,983 - __main__ - INFO - Inserted Barcelona - Bilbao into dim_ruta, ID: 10\n",
      "2024-07-23 17:41:02,955 - __main__ - INFO - Inserted Monday into dim_dia, ID: 2\n",
      "2024-07-23 17:41:04,983 - __main__ - INFO - Inserted Tuesday into dim_dia, ID: 3\n",
      "2024-07-23 17:41:06,879 - __main__ - INFO - Inserted Wednesday into dim_dia, ID: 4\n",
      "2024-07-23 17:41:08,755 - __main__ - INFO - Inserted Thursday into dim_dia, ID: 5\n",
      "2024-07-23 17:41:10,914 - __main__ - INFO - Inserted Friday into dim_dia, ID: 6\n",
      "2024-07-23 17:41:12,725 - __main__ - INFO - Inserted Saturday into dim_dia, ID: 7\n",
      "2024-07-23 17:43:29,771 - __main__ - INFO - Transaction committed successfully.\n",
      "2024-07-23 17:43:29,774 - __main__ - INFO - Conexión cerrada y recursos liberados.\n"
     ]
    },
    {
     "name": "stdout",
     "output_type": "stream",
     "text": [
      "Conexión cerrada y recursos liberados.\n"
     ]
    }
   ],
   "source": [
    "# Insertar datos en las tablas de dimensiones y hechos\n",
    "with engine.connect() as connection:\n",
    "    connection.execute(text(\"START TRANSACTION\"))\n",
    "    try:\n",
    "        for _, row in data.iterrows():\n",
    "            id_ruta = get_or_create_dimension(connection, 'dim_ruta', 'ruta', row['Ruta'], dim_ruta)\n",
    "            id_transporte = get_or_create_dimension(connection, 'dim_transporte', 'tipo_transporte', row['Tipo_Transporte'], dim_transporte)\n",
    "            id_region = get_or_create_dimension(connection, 'dim_region', 'region', row['Region'], dim_region)\n",
    "            id_dia = get_or_create_dimension(connection, 'dim_dia', 'dia_semana', row['Dia_Semana'], dim_dia)\n",
    "\n",
    "            connection.execute(text(\"\"\"\n",
    "                INSERT INTO hechos_transporte (\n",
    "                    id_ruta, id_transporte, id_region, id_dia, numero_pasajeros, duracion_viaje_minutos, retraso_minutos\n",
    "                ) VALUES (\n",
    "                    :id_ruta, :id_transporte, :id_region, :id_dia, :numero_pasajeros, :duracion_viaje_minutos, :retraso_minutos\n",
    "                )\n",
    "            \"\"\"), {\n",
    "                'id_ruta': id_ruta,\n",
    "                'id_transporte': id_transporte,\n",
    "                'id_region': id_region,\n",
    "                'id_dia': id_dia,\n",
    "                'numero_pasajeros': row['Numero_Pasajeros'],\n",
    "                'duracion_viaje_minutos': row['Duracion_Viaje_Minutos'],\n",
    "                'retraso_minutos': row['Retraso_Minutos']\n",
    "            })\n",
    "        connection.execute(text(\"COMMIT\"))\n",
    "        logger.info(\"Transaction committed successfully.\")\n",
    "    except Exception as e:\n",
    "        connection.execute(text(\"ROLLBACK\"))\n",
    "        logger.error(f\"Error during transaction, rolled back: {e}\")\n",
    "\n",
    "# Forzar el cierre de la conexión\n",
    "engine.dispose()\n",
    "logger.info(\"Conexión cerrada y recursos liberados.\")\n",
    "\n",
    "print(\"Conexión cerrada y recursos liberados.\")"
   ]
  },
  {
   "cell_type": "code",
   "execution_count": null,
   "id": "0c64d05c-5f5f-4a8b-9d0e-77f40339167b",
   "metadata": {},
   "outputs": [],
   "source": []
  }
 ],
 "metadata": {
  "kernelspec": {
   "display_name": "Python (myenv)",
   "language": "python",
   "name": "myenv"
  },
  "language_info": {
   "codemirror_mode": {
    "name": "ipython",
    "version": 3
   },
   "file_extension": ".py",
   "mimetype": "text/x-python",
   "name": "python",
   "nbconvert_exporter": "python",
   "pygments_lexer": "ipython3",
   "version": "3.12.4"
  },
  "widgets": {
   "application/vnd.jupyter.widget-state+json": {
    "state": {},
    "version_major": 2,
    "version_minor": 0
   }
  }
 },
 "nbformat": 4,
 "nbformat_minor": 5
}

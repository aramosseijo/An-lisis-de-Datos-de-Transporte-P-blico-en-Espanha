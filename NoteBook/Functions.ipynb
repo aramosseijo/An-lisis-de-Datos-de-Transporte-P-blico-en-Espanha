{
 "cells": [
  {
   "cell_type": "markdown",
   "id": "a2511e98-ebc6-4577-b1d1-ddce83daf6cc",
   "metadata": {},
   "source": [
    "**2. Funciones para la observación y limpieza.** El objetivo de crear funciones es la reutilización de código, haciéndolo más legible y más facil de mantener.<br>\n",
    "**2.1 Función analisis.**  Esta es una función que llama a todas las funciones de observación del DataFrame de Pandas que nos pueden aportar \n",
    "información útil acerca del contenido, tipo de datos, dimensiones y estadísticas básicas de los datos numéricos."
   ]
  },
  {
   "cell_type": "code",
   "execution_count": 1,
   "id": "515bc61e-32be-4a59-a392-50b82eee07fe",
   "metadata": {},
   "outputs": [],
   "source": [
    "def analisis(data):\n",
    "    \"\"\"\n",
    "    Realiza un análisis inicial del DataFrame.\n",
    "    \n",
    "    Parameters:\n",
    "    data (DataFrame): El DataFrame a analizar.\n",
    "    \n",
    "    Returns:\n",
    "    None\n",
    "    \"\"\"\n",
    "    print(\"Dimensiones del Dataframe:\")\n",
    "    mostrar_dimensiones(data)\n",
    "    print(\"Primeras y últimas filas del DataFrame:\")\n",
    "    primeras_ultimas_filas(data)\n",
    "    print(\"\\nInformación del DataFrame:\")\n",
    "    imprimir_info(data)\n",
    "    print(\"\\nEstadísticas descriptivas:\")\n",
    "    # Crear y mostrar la tabla de estadísticas descriptivas\n",
    "    estadisticas = crear_tabla_estadisticas(data)\n",
    "    imprimir_tabla_estadisticas(estadisticas)"
   ]
  },
  {
   "cell_type": "markdown",
   "id": "aa8722a1-1f80-4df6-9659-f45f5df71743",
   "metadata": {},
   "source": [
    "**2.2 Función imprimir_info.** Función que recibe como parámetro un DataFrame y muestra estadísticas descriptivas acerca de los datos <br>\n",
    "que contiene éste."
   ]
  },
  {
   "cell_type": "code",
   "execution_count": 2,
   "id": "9679e622-760b-4450-908f-b5fc51d2d233",
   "metadata": {},
   "outputs": [],
   "source": [
    "def imprimir_info(data):\n",
    "    \"\"\"\n",
    "    Imprime información del DataFrame.\n",
    "    A través de data.info() podemos analizar que tipo de varibles hay en el data.\n",
    "    Parameters:\n",
    "    data (DataFrame): El DataFrame del que se va a mostrar información.\n",
    "    \n",
    "    Returns:\n",
    "    None\n",
    "    \"\"\"\n",
    "    display(data.info())"
   ]
  },
  {
   "cell_type": "markdown",
   "id": "5f1a0877-31f4-4c6f-a04a-e63a585d90a0",
   "metadata": {},
   "source": [
    "**2.3 Función primeras_ultimas_filas.** Función que recibe como parámetro un DataFrame y muestra sus primeras líneas y las últimas.\n",
    "Esto en un análisis inicial puede ser práctico y aportar información básica que ayude al análisis."
   ]
  },
  {
   "cell_type": "code",
   "execution_count": 3,
   "id": "2f1f5573-adee-4335-8cf0-d26a856e2705",
   "metadata": {},
   "outputs": [],
   "source": [
    "def primeras_ultimas_filas(data):\n",
    "    \"\"\"\n",
    "    Imprime las Primeras filas del DataFrame.\n",
    "    \n",
    "    Parameters:\n",
    "    data (DataFrame): El DataFrame a mostrar.\n",
    "    \n",
    "    Returns:\n",
    "    None\n",
    "    \"\"\"\n",
    "    print(\"\\n\")\n",
    "    print(\"Primeras filas\")\n",
    "    display(data.head())\n",
    "    print(\"\\n\")\n",
    "    print(\"Últimas filas\")\n",
    "    display(data.tail())\n",
    "    print(\"\\n\")"
   ]
  },
  {
   "cell_type": "markdown",
   "id": "a28162dd-47bb-4e36-8b0f-1097da8e4921",
   "metadata": {},
   "source": [
    "**2.4 Función imprimir_tabla_estadisticas.** Función que recibe como parámetro un DataFrame y crea una tabla con algunas estadísticas descriptivas\n",
    "de los valores numéricos del DataFrame (Media, Mediana, Desviación estandar... etc.)"
   ]
  },
  {
   "cell_type": "code",
   "execution_count": 4,
   "id": "44d4fa67-617a-47b5-9fa0-e29f6d1be9e0",
   "metadata": {},
   "outputs": [],
   "source": [
    "def crear_tabla_estadisticas(data):\n",
    "    \"\"\"\n",
    "    Crea una tabla con las estadísticas descriptivas del DataFrame.\n",
    "    \n",
    "    Parameters:\n",
    "    data (DataFrame): El DataFrame a analizar.\n",
    "    \n",
    "    Returns:\n",
    "    DataFrame: DataFrame con las estadísticas descriptivas.\n",
    "    \"\"\"\n",
    "    # Obtener estadísticas descriptivas\n",
    "    estadisticas = data.describe()\n",
    "    \n",
    "    # Renombrar las columnas para mayor claridad\n",
    "    estadisticas.rename(index={\n",
    "        'count': 'Número de Observaciones',\n",
    "        'mean': 'Promedio',\n",
    "        'std': 'Desviación Estándar',\n",
    "        'min': 'Valor Mínimo',\n",
    "        '25%': 'Primer Cuartil (25%)',\n",
    "        '50%': 'Mediana (50%)',\n",
    "        '75%': 'Tercer Cuartil (75%)',\n",
    "        'max': 'Valor Máximo'\n",
    "    }, inplace=True)\n",
    "    \n",
    "    return estadisticas\n"
   ]
  },
  {
   "cell_type": "markdown",
   "id": "5c53f246-7552-41a8-ac88-be4ed714724b",
   "metadata": {},
   "source": [
    "**2.5 Función imprimir_tabla_estadisticas.** Función que recibe como parámetro un DataFrame y crea una tabla con algunas estadísticas descriptivas\n",
    "de los valores numéricos del DataFrame (Media, Mediana, Desviación estandar... etc.)"
   ]
  },
  {
   "cell_type": "code",
   "execution_count": 5,
   "id": "b0083fd7-f3e8-45a0-9c27-77108d754a22",
   "metadata": {},
   "outputs": [],
   "source": [
    "def imprimir_tabla_estadisticas(estadisticas):\n",
    "    \"\"\"\n",
    "    Imprime la tabla de estadísticas descriptivas en formato de tabla.\n",
    "    \n",
    "    Parameters:\n",
    "    estadisticas (DataFrame): DataFrame con las estadísticas descriptivas.\n",
    "    \n",
    "    Returns:\n",
    "    None\n",
    "    \"\"\"\n",
    "    print(tabulate(estadisticas, headers='keys', tablefmt='pretty',stralign='left'))"
   ]
  },
  {
   "cell_type": "markdown",
   "id": "47389ba0-2048-4ac8-866a-b3aa50a4dc89",
   "metadata": {},
   "source": [
    "**2.6 Función mostrar_dimensiones.** Función que recibe como parámetro un DataFrame y muestra el número de columnas y el número de filas."
   ]
  },
  {
   "cell_type": "code",
   "execution_count": 6,
   "id": "1111cdd6-6160-4e70-a9bc-70cdcbf2751d",
   "metadata": {},
   "outputs": [],
   "source": [
    "def mostrar_dimensiones(data):\n",
    "    \"\"\"\n",
    "    Imprime las dimensiones DataFrame.\n",
    "    \n",
    "    Parameters:\n",
    "    data (DataFrame): El DataFrame del que se van a mostrar las dimensiones.\n",
    "    \n",
    "    Returns:\n",
    "    None\n",
    "    \"\"\"\n",
    "    data_shape = data.shape\n",
    "    # Crear una lista con la forma de los datos\n",
    "    shape_list = [[\"Filas\", data_shape[0]], [\"Columnas\", data_shape[1]]]\n",
    "    # Usar tabulate para mostrar la información en formato de tabla\n",
    "    print(tabulate(shape_list, headers=[\"Dimensión\", \"Número\"], tablefmt=\"pretty\"))\n",
    "\n",
    " # Mostrar los nombres de las columnas separados por comas\n",
    "    columnas = \", \".join(data.columns)\n",
    "    print(\"\\nNombres de las columnas:\")\n",
    "    print(columnas)\n",
    "    print(\"\\n\")"
   ]
  },
  {
   "cell_type": "markdown",
   "id": "7136ced8-0a8a-4fa6-bd0d-f6ee5175ded4",
   "metadata": {},
   "source": [
    "**2.7 Función valores_faltantes.** Función que recibe como parámetro un DataFrame y devuelve otro DataFrame al que se le han eliminado<br>\n",
    "aquellas filas en las que en algún valor aparece \"not_available\" o vacío."
   ]
  },
  {
   "cell_type": "code",
   "execution_count": 1,
   "id": "12d345ce-5ba2-46bc-bd6d-10254a0d3408",
   "metadata": {},
   "outputs": [],
   "source": [
    "def valores_faltantes(data):\n",
    "    \"\"\"\n",
    "    Esta función recibe un DataFrame de pandas y elimina todas las filas que \n",
    "    están vacías o cuyo contenido sea \"not_available\".\n",
    "    \n",
    "    Parámetros:\n",
    "    data (pd.DataFrame): El DataFrame a limpiar.\n",
    "    \n",
    "    Retorna:\n",
    "    pd.DataFrame: El DataFrame limpio.\n",
    "    \"\"\"\n",
    "    # Reemplazar 'not_available' con NaN para poder eliminar las filas fácilmente\n",
    "    data.replace(\"not_available\", pd.NA, inplace=True)\n",
    "    \n",
    "    # Eliminar filas que contienen NaN en cualquier columna\n",
    "    data_limpio = data.dropna()\n",
    "    \n",
    "    return data_limpio"
   ]
  },
  {
   "cell_type": "markdown",
   "id": "934a092f-79ee-4e65-bce2-22db367a0776",
   "metadata": {},
   "source": [
    "**2.8 Función mostrar_ids_duplicados.** Función que recibe como parámetro un DataFrame y muestra diversa información acerca de la columna 'ID_Viaje' y sus posibles duplicados. También muestra si existen filas que son duplicados."
   ]
  },
  {
   "cell_type": "code",
   "execution_count": 8,
   "id": "d8c59be0-09ae-4971-9c18-59c80d308763",
   "metadata": {},
   "outputs": [],
   "source": [
    "def mostrar_ids_duplicados(data):\n",
    "    # Identificar los ID_Viaje duplicados\n",
    "    duplicated_ids = data[data.duplicated(subset='ID_Viaje', keep=False)]['ID_Viaje']\n",
    "    \n",
    "    # Filtrar los registros que tienen estos ID_Viaje duplicados\n",
    "    duplicated_records = data[data['ID_Viaje'].isin(duplicated_ids)]\n",
    "    \n",
    "    # Verificar si estos registros son completamente duplicados\n",
    "    exact_duplicates = duplicated_records[duplicated_records.duplicated(keep=False)]\n",
    "    \n",
    "    # Verificar cuántos de estos registros son duplicados exactos\n",
    "    count_exact_duplicates = exact_duplicates.shape[0]\n",
    "    \n",
    "    # Verificar cuántos registros tienen ID_Viaje duplicados\n",
    "    count_total_duplicates = duplicated_records.shape[0]\n",
    "    \n",
    "    # Número de registros únicos con ID_Viaje duplicados\n",
    "    unique_id_duplicates = duplicated_ids.nunique()\n",
    "    \n",
    "    print(f\"El número total de registros con ID_Viaje duplicados es: {count_total_duplicates}\")\n",
    "    print(f\"El número de registros que son completamente duplicados es: {count_exact_duplicates}\")\n",
    "    print(f\"El número de ID_Viaje únicos duplicados es: {unique_id_duplicates}\")"
   ]
  },
  {
   "cell_type": "markdown",
   "id": "e627aea3-874f-4315-a230-41c3397dd388",
   "metadata": {},
   "source": [
    "**2.9 Función plot_categorical_distribution.**  \n",
    "Crea un gráfico de barras para la distribución de una columna categórica.  \n",
    "Parámetros:\n",
    "- data: DataFrame que contiene los datos.\n",
    "- column: Nombre de la columna categórica para la cual se creará el gráfico.\n",
    "- title: Título del gráfico (opcional).\n",
    "- figsize: Tamaño de la figura (opcional).\n",
    "- palette: Paleta de colores para el gráfico (opcional)."
   ]
  },
  {
   "cell_type": "code",
   "execution_count": 1,
   "id": "ea5ca697-0f94-4b15-91d1-890137b2427a",
   "metadata": {},
   "outputs": [],
   "source": [
    "def plot_categorical_distribution(data, column, title='Distribución de la columna', figsize=(12, 6), palette='viridis'):\n",
    "    \"\"\"\n",
    "    Crea un gráfico de barras para la distribución de una columna categórica.\n",
    "\n",
    "    Parámetros:\n",
    "    - data: DataFrame que contiene los datos.\n",
    "    - column: Nombre de la columna categórica para la cual se creará el gráfico.\n",
    "    - title: Título del gráfico (opcional).\n",
    "    - figsize: Tamaño de la figura (opcional).\n",
    "    - palette: Paleta de colores para el gráfico (opcional).\n",
    "    \"\"\"\n",
    "    # Crear un gráfico con tamaño específico\n",
    "    fig, ax = plt.subplots(figsize=figsize)\n",
    "    sns.countplot(x=column, data=data, ax=ax, hue=column, dodge=False, palette=palette, legend=False)\n",
    "\n",
    "    # Establecer título y etiquetas\n",
    "    ax.set_title(title, fontsize=14)\n",
    "    ax.set_xlabel(column, fontsize=12)\n",
    "    ax.set_ylabel('Cantidad', fontsize=12)\n",
    "\n",
    "    # Rotar etiquetas del eje x para mejor legibilidad\n",
    "    for label in ax.get_xticklabels():\n",
    "        label.set_rotation(45)\n",
    "        label.set_horizontalalignment('right')\n",
    "\n",
    "    # Ajustar el diseño para que todo encaje bien\n",
    "    plt.tight_layout()\n",
    "\n",
    "    # Mostrar el gráfico\n",
    "    plt.show()\n",
    "    # Mostrar estadísticas descriptivas\n",
    "    print(f'Estadísticas descriptivas de {column}')\n",
    "    print(data[column].describe())\n",
    "\n",
    "\n",
    "# Ejemplo de uso\n",
    "# plot_categorical_distribution(data, 'Ruta', title='Distribución de Rutas')"
   ]
  },
  {
   "cell_type": "markdown",
   "id": "a4be3d85-30d0-4c5b-9920-7855a6849268",
   "metadata": {},
   "source": [
    "**2.10 Función plot_histogram.**  \n",
    "Genera un histograma y muestra estadísticas descriptivas para una columna numérica.  \n",
    "Parámetros:  \n",
    "- data: DataFrame que contiene los datos.\n",
    "- column: Nombre de la columna numérica para la cual se creará el histograma.\n",
    "- bins: Número de bins para el histograma (opcional).  **BEGO QUÉ SON LOS BINS**\n",
    "- color: Color de las barras del histograma (opcional)."
   ]
  },
  {
   "cell_type": "code",
   "execution_count": 2,
   "id": "d4b36ef2-5586-4f5a-b109-baede165ddac",
   "metadata": {},
   "outputs": [],
   "source": [
    "def plot_histogram(data, column, bins=30, color='orange'):\n",
    "    \"\"\"\n",
    "    Genera un histograma y muestra estadísticas descriptivas para una columna numérica.\n",
    "\n",
    "    Parámetros:\n",
    "    - data: DataFrame que contiene los datos.\n",
    "    - column: Nombre de la columna numérica para la cual se creará el histograma.\n",
    "    - bins: Número de bins para el histograma (opcional).\n",
    "    - color: Color de las barras del histograma (opcional).\n",
    "    \"\"\"\n",
    "    # Generar histograma\n",
    "    plt.figure(figsize=(12, 6))\n",
    "    sns.histplot(data[column].dropna(), kde=True, bins=bins, color=color)\n",
    "    plt.title(f'Distribución de {column}')\n",
    "    plt.xlabel(column)\n",
    "    plt.ylabel('Frecuencia')\n",
    "    plt.tight_layout()\n",
    "    plt.show()\n",
    "\n",
    "    # Mostrar estadísticas descriptivas\n",
    "    print(f'Estadísticas descriptivas de {column}')\n",
    "    print(data[column].describe())\n",
    "\n",
    "# Ejemplo de uso plot_histogram(data, 'Numero_Pasajeros')"
   ]
  },
  {
   "cell_type": "code",
   "execution_count": null,
   "id": "813869db-ca0e-4ccc-99db-313d3a12acad",
   "metadata": {},
   "outputs": [],
   "source": []
  }
 ],
 "metadata": {
  "kernelspec": {
   "display_name": "Python (myenv)",
   "language": "python",
   "name": "myenv"
  },
  "language_info": {
   "codemirror_mode": {
    "name": "ipython",
    "version": 3
   },
   "file_extension": ".py",
   "mimetype": "text/x-python",
   "name": "python",
   "nbconvert_exporter": "python",
   "pygments_lexer": "ipython3",
   "version": "3.12.4"
  },
  "widgets": {
   "application/vnd.jupyter.widget-state+json": {
    "state": {},
    "version_major": 2,
    "version_minor": 0
   }
  }
 },
 "nbformat": 4,
 "nbformat_minor": 5
}
